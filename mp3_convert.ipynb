{
 "cells": [
  {
   "cell_type": "code",
   "execution_count": 3,
   "metadata": {},
   "outputs": [
    {
     "name": "stdout",
     "output_type": "stream",
     "text": [
      "['.dat', 'cv-invalid', 'cv-invalid.csv', 'cv-other-dev', 'cv-other-dev.csv', 'cv-other-test', 'cv-other-test.csv', 'cv-other-train', 'cv-other-train.csv', 'cv-valid-dev', 'cv-valid-dev.csv', 'cv-valid-test', 'cv-valid-test.csv', 'cv-valid-train', 'cv-valid-train.csv', 'LICENSE.txt', 'README.txt']\n"
     ]
    }
   ],
   "source": [
    "import os\n",
    "from os.path import isfile, join\n",
    "import soundfile as sf\n",
    "from pydub import AudioSegment\n",
    "import numpy as np\n",
    "\n",
    "\n",
    "AudioSegment.converter = r'C:\\Users\\Igor\\Desktop\\Library\\ffmpeg-3.4.2-win64-static\\bin\\ffmpeg.exe'\n",
    "data_directory = 'LibriSpeech\\cv_corpus_v1'\n",
    "#print (os.listdir(data_directory))\n",
    "counter = 0\n",
    "print (os.listdir(data_directory))\n",
    "for subset in os.listdir(data_directory):\n",
    "    #print (subset)\n",
    "    #continue\n",
    "    subset_path = join(data_directory, subset)\n",
    "    #print (os.listdir(subset_path))\n",
    "    #continue\n",
    "    if isfile(subset_path) == False:\n",
    "        for file in os.listdir(subset_path):\n",
    "            base, ext = os.path.splitext(file)\n",
    "            if ext == '.mp3':\n",
    "                wav_file = base+'.wav'\n",
    "                #print (file)\n",
    "                #print (wav_file)\n",
    "                #print (join(subset_path,file))\n",
    "                #print (os.getcwd())\n",
    "                #print (join(os.getcwd(),join(subset_path,file)))\n",
    "                #data, samplerate = sf.read(join(subset_path,wav_file))\n",
    "                #print (samplerate)\n",
    "                sound = AudioSegment.from_mp3(join(os.getcwd(),join(subset_path,file)))\n",
    "                sound.export(join(subset_path,wav_file), format=\"wav\", bitrate = \"8\")\n",
    "                data, samplerate = sf.read(join(subset_path,wav_file))\n",
    "                #print (samplerate)\n",
    "                data = np.array(data[::3])\n",
    "                samplerate =16000\n",
    "                #sound.split_to_mono()\n",
    "                #data = sound.raw_data\n",
    "                #samplerate = 16000\n",
    "                #print ((data.shape),samplerate)\n",
    "                #sound.set_frame_rate(16000)\n",
    "                #print (sound.frame_rate, sound.frame_count())\n",
    "                #sound.export(join(subset_path,wav_file), format=\"wav\", bitrate = \"8\")\n",
    "                #break\n",
    "                sf.write (join(subset_path,wav_file),data, samplerate)\n",
    "                \n",
    "                            \n",
    "            \n",
    "            "
   ]
  },
  {
   "cell_type": "code",
   "execution_count": null,
   "metadata": {},
   "outputs": [],
   "source": []
  }
 ],
 "metadata": {
  "kernelspec": {
   "display_name": "Python (keras)",
   "language": "python",
   "name": "nbkeras"
  },
  "language_info": {
   "codemirror_mode": {
    "name": "ipython",
    "version": 3
   },
   "file_extension": ".py",
   "mimetype": "text/x-python",
   "name": "python",
   "nbconvert_exporter": "python",
   "pygments_lexer": "ipython3",
   "version": "3.6.4"
  }
 },
 "nbformat": 4,
 "nbformat_minor": 2
}
